{
  "nbformat": 4,
  "nbformat_minor": 0,
  "metadata": {
    "colab": {
      "provenance": [],
      "authorship_tag": "ABX9TyN8IfVASITGof1jTS15bwh/",
      "include_colab_link": true
    },
    "kernelspec": {
      "name": "python3",
      "display_name": "Python 3"
    },
    "language_info": {
      "name": "python"
    }
  },
  "cells": [
    {
      "cell_type": "markdown",
      "metadata": {
        "id": "view-in-github",
        "colab_type": "text"
      },
      "source": [
        "<a href=\"https://colab.research.google.com/github/athulrj02/TwiPipeline/blob/main/DA%7CCA_One.ipynb\" target=\"_parent\"><img src=\"https://colab.research.google.com/assets/colab-badge.svg\" alt=\"Open In Colab\"/></a>"
      ]
    },
    {
      "cell_type": "markdown",
      "source": [
        "Athul Raj\n",
        "\n",
        "**20035410**"
      ],
      "metadata": {
        "id": "t0QJzYR5GGfz"
      }
    },
    {
      "cell_type": "code",
      "execution_count": 14,
      "metadata": {
        "id": "womni-KnGA28"
      },
      "outputs": [],
      "source": [
        "# !pip install tweepy pandas"
      ]
    },
    {
      "cell_type": "code",
      "source": [
        "import tweepy"
      ],
      "metadata": {
        "id": "-CsqaOWiWoN-"
      },
      "execution_count": 15,
      "outputs": []
    },
    {
      "cell_type": "code",
      "source": [
        "import pandas as pd"
      ],
      "metadata": {
        "id": "wIuDiD_klxB3"
      },
      "execution_count": 5,
      "outputs": []
    },
    {
      "cell_type": "code",
      "source": [
        "API_Key = '5XgfETdNVSmUpMqj9WpSU2zh6'\n",
        "API_Secret = 'K02FKsDiUQZUXek5ktTkFiDlVl8Fx9lelrtQvLeFsXQyqEZipj'\n",
        "Bearer_token = 'AAAAAAAAAAAAAAAAAAAAALoyxAEAAAAAQOYOKoNfaR8xGVY04pCxOPbkY2I%3D2ontK1UxhMQDEnMdI21yIMcpKbROuyT6tewICojnRsLm9TmxYL'\n",
        "\n",
        "client = tweepy.Client(bearer_token= Bearer_token)"
      ],
      "metadata": {
        "id": "m_Fkj-BzWvmM"
      },
      "execution_count": 17,
      "outputs": []
    },
    {
      "cell_type": "code",
      "source": [
        "query = 'cybersecurity lang:en -is:retweet'"
      ],
      "metadata": {
        "id": "NPcp1Tv_XV8Z"
      },
      "execution_count": 18,
      "outputs": []
    },
    {
      "cell_type": "code",
      "source": [
        "tweets = client.search_recent_tweets(query=query, max_results=100, tweet_fields=['id','text', 'created_at'])\n",
        "\n",
        "data= []\n",
        "for tweet in tweets.data:\n",
        "  data.append({\n",
        "      'Tweet ID': tweet.id,\n",
        "      'Text': tweet.text,\n",
        "      'Created At': tweet.created_at\n",
        "  })\n",
        "df = pd.DataFrame(data)\n",
        "print(df.head())\n",
        "\n",
        "df.to_csv('cybersecurity_tweets.csv', index=False)"
      ],
      "metadata": {
        "colab": {
          "base_uri": "https://localhost:8080/"
        },
        "id": "loHZSfoCYQj6",
        "outputId": "d1a978ab-d7a6-4d09-bab0-ded885b5cdae"
      },
      "execution_count": 19,
      "outputs": [
        {
          "output_type": "stream",
          "name": "stdout",
          "text": [
            "              Tweet ID                                               Text  \\\n",
            "0  1858590279214768547  A Critical Wake-Up Call: VMware vCenter Server...   \n",
            "1  1858590255693070509  🚨 Vulnerability Alert! USN-7104-1 impacts #cur...   \n",
            "2  1858590166194987504  In the fast-paced tech landscape, mastering th...   \n",
            "3  1858590148667031828  @KryptoKnight_1 Send the proof to @HowardGigs ...   \n",
            "4  1858590125325746364  Generative AI, Cybersecurity, and Ethics, publ...   \n",
            "\n",
            "                 Created At  \n",
            "0 2024-11-18 19:17:08+00:00  \n",
            "1 2024-11-18 19:17:02+00:00  \n",
            "2 2024-11-18 19:16:41+00:00  \n",
            "3 2024-11-18 19:16:37+00:00  \n",
            "4 2024-11-18 19:16:31+00:00  \n"
          ]
        }
      ]
    },
    {
      "cell_type": "markdown",
      "source": [
        "Saving the dataset to Google Drive\n",
        "* Mounted Drive\n",
        "* Saved to the folder,\n",
        "* Loading dataset"
      ],
      "metadata": {
        "id": "dn7VYiT2H-LT"
      }
    },
    {
      "cell_type": "code",
      "source": [
        "from google.colab import drive\n",
        "drive.mount('/content/drive')"
      ],
      "metadata": {
        "colab": {
          "base_uri": "https://localhost:8080/"
        },
        "id": "wTSv8zAGsYxr",
        "outputId": "67cc5c1c-fc3d-4a60-fedb-45e4138daea9"
      },
      "execution_count": 1,
      "outputs": [
        {
          "output_type": "stream",
          "name": "stdout",
          "text": [
            "Mounted at /content/drive\n"
          ]
        }
      ]
    },
    {
      "cell_type": "code",
      "source": [
        "df.to_csv('/content/drive/My Drive/Colab Notebooks/cybersecurity_tweets.csv', index=False)"
      ],
      "metadata": {
        "collapsed": true,
        "id": "qBVp14odteLP"
      },
      "execution_count": 7,
      "outputs": []
    },
    {
      "cell_type": "code",
      "source": [
        "file_path = '/content/drive/My Drive/Colab Notebooks/cybersecurity_tweets.csv'\n",
        "df = pd.read_csv(file_path)\n",
        "print(df.head())"
      ],
      "metadata": {
        "colab": {
          "base_uri": "https://localhost:8080/"
        },
        "id": "ONwYdLSuuyKY",
        "outputId": "342a8ccd-63d4-43ca-936a-b8279a18a430"
      },
      "execution_count": 6,
      "outputs": [
        {
          "output_type": "stream",
          "name": "stdout",
          "text": [
            "              Tweet ID                                               Text  \\\n",
            "0  1858590279214768547  A Critical Wake-Up Call: VMware vCenter Server...   \n",
            "1  1858590255693070509  🚨 Vulnerability Alert! USN-7104-1 impacts #cur...   \n",
            "2  1858590166194987504  In the fast-paced tech landscape, mastering th...   \n",
            "3  1858590148667031828  @KryptoKnight_1 Send the proof to @HowardGigs ...   \n",
            "4  1858590125325746364  Generative AI, Cybersecurity, and Ethics, publ...   \n",
            "\n",
            "                  Created At  \n",
            "0  2024-11-18 19:17:08+00:00  \n",
            "1  2024-11-18 19:17:02+00:00  \n",
            "2  2024-11-18 19:16:41+00:00  \n",
            "3  2024-11-18 19:16:37+00:00  \n",
            "4  2024-11-18 19:16:31+00:00  \n"
          ]
        }
      ]
    },
    {
      "cell_type": "code",
      "source": [
        "import nltk\n",
        "nltk.download('punkt')\n",
        "nltk.download('wordnet')\n",
        "nltk.download('stopwords')"
      ],
      "metadata": {
        "colab": {
          "base_uri": "https://localhost:8080/"
        },
        "id": "g9AgTRWjbojR",
        "outputId": "5975b619-1b81-48c9-92cb-c6c903bdd4ad"
      },
      "execution_count": 8,
      "outputs": [
        {
          "output_type": "stream",
          "name": "stderr",
          "text": [
            "[nltk_data] Downloading package punkt to /root/nltk_data...\n",
            "[nltk_data]   Unzipping tokenizers/punkt.zip.\n",
            "[nltk_data] Downloading package wordnet to /root/nltk_data...\n",
            "[nltk_data] Downloading package stopwords to /root/nltk_data...\n",
            "[nltk_data]   Unzipping corpora/stopwords.zip.\n"
          ]
        },
        {
          "output_type": "execute_result",
          "data": {
            "text/plain": [
              "True"
            ]
          },
          "metadata": {},
          "execution_count": 8
        }
      ]
    },
    {
      "cell_type": "markdown",
      "source": [
        "**Preprocessing**"
      ],
      "metadata": {
        "id": "uVIL7VpLb8SD"
      }
    },
    {
      "cell_type": "code",
      "source": [
        "import re\n",
        "from nltk.corpus import stopwords\n",
        "from nltk.tokenize import word_tokenize\n",
        "from nltk.stem import WordNetLemmatizer"
      ],
      "metadata": {
        "id": "fmRwQhq4b4yr"
      },
      "execution_count": 9,
      "outputs": []
    },
    {
      "cell_type": "code",
      "source": [
        "def preprocess_tweet(text):\n",
        "  #removing urls\n",
        "  text =re.sub(r'http\\S+|www\\S+|https\\S+','', text, flags = re.MULTILINE)\n",
        "\n",
        "  #removing unwantedd special characters and nums\n",
        "  text = re.sub(r'\\@\\w+|\\#','',text)\n",
        "  text = re.sub(r'[^A-Za-z\\s]','',text)\n",
        "\n",
        "  # convert into lowecase\n",
        "  text = text.lower()\n",
        "\n",
        "  #tokenization\n",
        "  tokens = word_tokenize(text)\n",
        "\n",
        "  # stopwords removing\n",
        "  stop_words = set(stopwords.words('english'))\n",
        "  tokens = [word for word in tokens if word not in stop_words]\n",
        "\n",
        "  #lemmatization\n",
        "  lemmatizer = WordNetLemmatizer()\n",
        "  tokens = [lemmatizer.lemmatize(word) for word in tokens]\n",
        "\n",
        "  processed_text = ' '.join(tokens)\n",
        "  return processed_text"
      ],
      "metadata": {
        "id": "GkYOcxe1cQRb"
      },
      "execution_count": 10,
      "outputs": []
    },
    {
      "cell_type": "code",
      "source": [
        "nltk.download('punkt_tab')"
      ],
      "metadata": {
        "colab": {
          "base_uri": "https://localhost:8080/"
        },
        "id": "n6jff2WZ3Iq-",
        "outputId": "7344fd46-4434-4410-ae96-a196365bc43f"
      },
      "execution_count": 11,
      "outputs": [
        {
          "output_type": "stream",
          "name": "stderr",
          "text": [
            "[nltk_data] Downloading package punkt_tab to /root/nltk_data...\n",
            "[nltk_data]   Unzipping tokenizers/punkt_tab.zip.\n"
          ]
        },
        {
          "output_type": "execute_result",
          "data": {
            "text/plain": [
              "True"
            ]
          },
          "metadata": {},
          "execution_count": 11
        }
      ]
    },
    {
      "cell_type": "code",
      "source": [
        "df['Cleaned text'] = df['Text'].apply(preprocess_tweet)"
      ],
      "metadata": {
        "id": "KKwxNmljfU4L"
      },
      "execution_count": 12,
      "outputs": []
    },
    {
      "cell_type": "code",
      "source": [
        "df.to_csv('cleaned_cybersecurity_tweets.csv', index=False)\n",
        "print(df.head)"
      ],
      "metadata": {
        "colab": {
          "base_uri": "https://localhost:8080/"
        },
        "id": "qfTHjxBm2612",
        "outputId": "861453f8-aa94-47f4-8824-08a67f23d5a1"
      },
      "execution_count": 13,
      "outputs": [
        {
          "output_type": "stream",
          "name": "stdout",
          "text": [
            "<bound method NDFrame.head of                Tweet ID                                               Text  \\\n",
            "0   1858590279214768547  A Critical Wake-Up Call: VMware vCenter Server...   \n",
            "1   1858590255693070509  🚨 Vulnerability Alert! USN-7104-1 impacts #cur...   \n",
            "2   1858590166194987504  In the fast-paced tech landscape, mastering th...   \n",
            "3   1858590148667031828  @KryptoKnight_1 Send the proof to @HowardGigs ...   \n",
            "4   1858590125325746364  Generative AI, Cybersecurity, and Ethics, publ...   \n",
            "..                  ...                                                ...   \n",
            "95  1858586054443602219  With healthcare being a prime target for attac...   \n",
            "96  1858586047791136968  Are your employees your biggest cybersecurity ...   \n",
            "97  1858586042447573309  Revealing Ransomware 🚨: Protect Your Digital L...   \n",
            "98  1858586039880736958  For a comprehensive discussion of the impact o...   \n",
            "99  1858586027666924015  The rise of smart contracts and strategies for...   \n",
            "\n",
            "                   Created At  \\\n",
            "0   2024-11-18 19:17:08+00:00   \n",
            "1   2024-11-18 19:17:02+00:00   \n",
            "2   2024-11-18 19:16:41+00:00   \n",
            "3   2024-11-18 19:16:37+00:00   \n",
            "4   2024-11-18 19:16:31+00:00   \n",
            "..                        ...   \n",
            "95  2024-11-18 19:00:20+00:00   \n",
            "96  2024-11-18 19:00:19+00:00   \n",
            "97  2024-11-18 19:00:18+00:00   \n",
            "98  2024-11-18 19:00:17+00:00   \n",
            "99  2024-11-18 19:00:14+00:00   \n",
            "\n",
            "                                         Cleaned text  \n",
            "0   critical wakeup call vmware vcenter server rce...  \n",
            "1   vulnerability alert usn impact curl risk insec...  \n",
            "2   fastpaced tech landscape mastering basic key c...  \n",
            "3   send proof theyre cybersecurity companyblockch...  \n",
            "4   generative ai cybersecurity ethic published wi...  \n",
            "..                                                ...  \n",
            "95  healthcare prime target attack important ever ...  \n",
            "96  employee biggest cybersecurity risk overlookin...  \n",
            "97  revealing ransomware protect digital life rans...  \n",
            "98  comprehensive discussion impact social medium ...  \n",
            "99  rise smart contract strategy mitigating cyber ...  \n",
            "\n",
            "[100 rows x 4 columns]>\n"
          ]
        }
      ]
    },
    {
      "cell_type": "code",
      "source": [],
      "metadata": {
        "id": "WGL_gqkb3mNd"
      },
      "execution_count": null,
      "outputs": []
    }
  ]
}