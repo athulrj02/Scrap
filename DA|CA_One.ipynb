{
  "nbformat": 4,
  "nbformat_minor": 0,
  "metadata": {
    "colab": {
      "provenance": [],
      "authorship_tag": "ABX9TyNkhC352qrxCezMJucvTehn",
      "include_colab_link": true
    },
    "kernelspec": {
      "name": "python3",
      "display_name": "Python 3"
    },
    "language_info": {
      "name": "python"
    }
  },
  "cells": [
    {
      "cell_type": "markdown",
      "metadata": {
        "id": "view-in-github",
        "colab_type": "text"
      },
      "source": [
        "<a href=\"https://colab.research.google.com/github/athulrj02/Scrap/blob/main/DA%7CCA_One.ipynb\" target=\"_parent\"><img src=\"https://colab.research.google.com/assets/colab-badge.svg\" alt=\"Open In Colab\"/></a>"
      ]
    },
    {
      "cell_type": "markdown",
      "source": [],
      "metadata": {
        "id": "t0QJzYR5GGfz"
      }
    },
    {
      "cell_type": "code",
      "execution_count": 1,
      "metadata": {
        "id": "womni-KnGA28"
      },
      "outputs": [],
      "source": [
        "import requests\n",
        "import json\n",
        "import pandas as pd"
      ]
    },
    {
      "cell_type": "code",
      "source": [
        "url = \"https://www.very.ie/multiselectajaxservlet\""
      ],
      "metadata": {
        "id": "RshYo1dbPKrf"
      },
      "execution_count": 2,
      "outputs": []
    },
    {
      "cell_type": "code",
      "source": [
        "response = requests.get(url)\n",
        "if response.status_code ==200:\n",
        "  print('Data fetched')\n",
        "  data = response.json()\n",
        "else:\n",
        "  print(f'data not fetched. Status code: {response.status_code}')"
      ],
      "metadata": {
        "id": "LQFT0F81DCnZ"
      },
      "execution_count": null,
      "outputs": []
    },
    {
      "cell_type": "code",
      "source": [
        "print(json.dumps(data, indent=4))"
      ],
      "metadata": {
        "id": "YODxbxvQEIjR"
      },
      "execution_count": null,
      "outputs": []
    }
  ]
}